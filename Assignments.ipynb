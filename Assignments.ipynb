{
 "cells": [
  {
   "cell_type": "markdown",
   "metadata": {},
   "source": [
    "\n",
    "ASSIGNMENTS"
   ]
  },
  {
   "cell_type": "code",
   "execution_count": null,
   "metadata": {
    "scrolled": true
   },
   "outputs": [],
   "source": [
    "#Task 1\n",
    "#Different types of inbuilt function in Python\n"
   ]
  },
  {
   "cell_type": "code",
   "execution_count": 1,
   "metadata": {},
   "outputs": [
    {
     "name": "stdout",
     "output_type": "stream",
     "text": [
      "enter your name:sohail\n",
      "hello sohail\n"
     ]
    }
   ],
   "source": [
    "# 1.input()-->Allowing user input\n",
    "a=input(\"enter your name:\")\n",
    "print(\"hello \"+a)"
   ]
  },
  {
   "cell_type": "code",
   "execution_count": 2,
   "metadata": {},
   "outputs": [
    {
     "name": "stdout",
     "output_type": "stream",
     "text": [
      "The car is red and water is blue \n"
     ]
    }
   ],
   "source": [
    "#2.format()-->Formats specified values in a string\n",
    "print(\"The car is {} and water is {} \".format(\"red\",\"blue\"))"
   ]
  },
  {
   "cell_type": "code",
   "execution_count": 3,
   "metadata": {},
   "outputs": [
    {
     "name": "stdout",
     "output_type": "stream",
     "text": [
      "i love coding\n",
      "i love gaming\n"
     ]
    }
   ],
   "source": [
    "#3.replace()-->Returns a string where a specified value is replaced \n",
    "#               with a specified value\n",
    "txt=\"i love coding\"\n",
    "print(txt)\n",
    "i=txt.replace(\"coding\",\"gaming\")\n",
    "print(i)"
   ]
  },
  {
   "cell_type": "code",
   "execution_count": 4,
   "metadata": {},
   "outputs": [
    {
     "name": "stdout",
     "output_type": "stream",
     "text": [
      "HELLO! My Name Is Sohail\n"
     ]
    }
   ],
   "source": [
    "#4.swapcase()--> lower case becomes upper case and vice versa\n",
    "txt = \"hello! mY nAME iS sOHAIL\"\n",
    "x=txt.swapcase()\n",
    "print(x)"
   ]
  },
  {
   "cell_type": "code",
   "execution_count": 5,
   "metadata": {},
   "outputs": [
    {
     "name": "stdout",
     "output_type": "stream",
     "text": [
      "['apple', 'banana', 'cherry', 'orange']\n"
     ]
    }
   ],
   "source": [
    "#5.append()-->Adds an element at the end of the list\n",
    "fruits = [\"apple\", \"banana\", \"cherry\"]\n",
    "fruits.append(\"orange\")\n",
    "print(fruits)"
   ]
  },
  {
   "cell_type": "code",
   "execution_count": 6,
   "metadata": {},
   "outputs": [
    {
     "name": "stdout",
     "output_type": "stream",
     "text": [
      "[]\n"
     ]
    }
   ],
   "source": [
    "#6.clear()-->Removes all the elements from the list\n",
    "fruits = ['apple', 'banana', 'cherry', 'orange']\n",
    "fruits.clear()\n",
    "print(fruits)"
   ]
  },
  {
   "cell_type": "code",
   "execution_count": 7,
   "metadata": {},
   "outputs": [
    {
     "name": "stdout",
     "output_type": "stream",
     "text": [
      "Welcome To My World\n"
     ]
    }
   ],
   "source": [
    "#7.title()-->Converts the first character of each word to upper case\n",
    "t=\"Welcome to my world\"\n",
    "x = t.title()\n",
    "print(x)"
   ]
  },
  {
   "cell_type": "code",
   "execution_count": 8,
   "metadata": {},
   "outputs": [
    {
     "name": "stdout",
     "output_type": "stream",
     "text": [
      "14\n",
      "-1\n"
     ]
    }
   ],
   "source": [
    "#Task 2  check if \"to\" is present\n",
    "txt = \"Hello welcome to my world\"\n",
    "\n",
    "x = txt.find(\"to\")#find()->Searches the string for a specified value \n",
    "                  #and returns the position of where it was found\n",
    "print(x)\n",
    "\n",
    "y=txt.find(\"q\")#If the value is not found, the find() method returns -1\n",
    "\n",
    "print(y)\n"
   ]
  },
  {
   "cell_type": "code",
   "execution_count": 13,
   "metadata": {},
   "outputs": [
    {
     "name": "stdout",
     "output_type": "stream",
     "text": [
      "Mike\n",
      "80\n",
      "{'april_batch': {'student': {'name': 'sohail', 'marks': {'python': 80, 'maths': 70}}}}\n",
      "[('april_batch', {'student': {'name': 'sohail', 'marks': {'python': 80, 'maths': 70, 'ML': 80}}})]\n",
      "{'april_batch': {'student': {'name': 'sohail', 'marks': {'python': 80, 'maths': 70, 'ML': 80, 'DL': 80}}}}\n"
     ]
    }
   ],
   "source": [
    "#Task-3\n",
    "dict1 = { \n",
    "   \"april_batch\":{ \n",
    "      \"student\":{ \n",
    "         \"name\":\"Mike\",\n",
    "         \"marks\":{ \n",
    "            \"python\":80,\n",
    "            \"maths\":70\n",
    "         }\n",
    "      }\n",
    "   }\n",
    "}\n",
    "\n",
    "print(dict1[\"april_batch\"][\"student\"][\"name\"])  #Acessing MIke\n",
    "print(dict1[\"april_batch\"][\"student\"][\"marks\"][\"python\"]) #Acessing 80\n",
    "dict1[\"april_batch\"][\"student\"][\"name\"]=\"sohail\"  #updating name mike to my name\n",
    "print(dict1)\n",
    "dict1[\"april_batch\"][\"student\"][\"marks\"][\"ML\"]=80 #Adding new key ML and giving value 80\n",
    "x=list(dict1.items())\n",
    "print(x)\n",
    "dict1[\"april_batch\"][\"student\"][\"marks\"][\"DL\"]=80 #Adding new key Dl and giving value 80\n",
    "print(dict1)\n",
    "\n"
   ]
  },
  {
   "cell_type": "code",
   "execution_count": 4,
   "metadata": {},
   "outputs": [],
   "source": [
    "#task-4\n",
    "#go through other inbuilt methods like remove(),count(),clear(),sort(),reverse()\n"
   ]
  },
  {
   "cell_type": "code",
   "execution_count": 5,
   "metadata": {},
   "outputs": [
    {
     "name": "stdout",
     "output_type": "stream",
     "text": [
      "['apple', 'banana']\n"
     ]
    }
   ],
   "source": [
    "#1.The remove() method removes the first occurrence of the element with the specified value.\n",
    "list=[\"apple\",\"mango\",\"banana\"]\n",
    "list.remove(\"mango\")\n",
    "print(list)"
   ]
  },
  {
   "cell_type": "code",
   "execution_count": 7,
   "metadata": {},
   "outputs": [
    {
     "name": "stdout",
     "output_type": "stream",
     "text": [
      "3\n"
     ]
    }
   ],
   "source": [
    "#2.The count() method returns the number of elements with the specified value.\n",
    "list=[1,2,9,3,7,9,8,4,9]\n",
    "c=list.count(9)\n",
    "print(c)"
   ]
  },
  {
   "cell_type": "code",
   "execution_count": 8,
   "metadata": {},
   "outputs": [
    {
     "name": "stdout",
     "output_type": "stream",
     "text": [
      "[]\n"
     ]
    }
   ],
   "source": [
    "#3.The clear() method removes all the elements from a list.\n",
    "list=[1,2,9,3,7,9,8,4,9]\n",
    "list.clear()\n",
    "print(list)\n"
   ]
  },
  {
   "cell_type": "code",
   "execution_count": 9,
   "metadata": {},
   "outputs": [
    {
     "name": "stdout",
     "output_type": "stream",
     "text": [
      "[0, 2, 4, 5, 6, 6, 7, 8]\n"
     ]
    }
   ],
   "source": [
    "#4.The sort() method sorts the list ascending by default\n",
    "list=[5,8,4,6,7,2,6,0]\n",
    "list.sort()\n",
    "print(list)"
   ]
  },
  {
   "cell_type": "code",
   "execution_count": 10,
   "metadata": {},
   "outputs": [
    {
     "name": "stdout",
     "output_type": "stream",
     "text": [
      "['orange', 'banana', 'mango', 'apple']\n"
     ]
    }
   ],
   "source": [
    "#5.The reverse() method reverses the sorting order of the elements.\n",
    "fruits=[\"apple\",\"mango\",\"banana\",\"orange\"]\n",
    "fruits.reverse()\n",
    "print(fruits)\n"
   ]
  },
  {
   "cell_type": "code",
   "execution_count": 16,
   "metadata": {},
   "outputs": [
    {
     "name": "stdout",
     "output_type": "stream",
     "text": [
      "[10, 20, [30, 40, [50, 60, 70], 80], 90, 100]\n"
     ]
    }
   ],
   "source": [
    "#task-5\n",
    "#Add item 70 after 60 in the following Python List\n",
    "#input\n",
    "l1 = [10, 20, [30, 40, [50, 60], 80], 90, 100]\n",
    "#output\n",
    "[10, 20, [30, 40, [50, 60, 70], 80], 90, 100]\n",
    "\n",
    "l1[2][2].insert(2,70)#using insert to add 70\n",
    "print(l1)"
   ]
  },
  {
   "cell_type": "code",
   "execution_count": 19,
   "metadata": {},
   "outputs": [
    {
     "data": {
      "text/plain": [
       "[1, 2, [3, 4, 5, 6, [7, 8]], 9]"
      ]
     },
     "execution_count": 19,
     "metadata": {},
     "output_type": "execute_result"
    }
   ],
   "source": [
    "#add sublist [7,8]\n",
    "#input\n",
    "l2 = [1,2,[3,4,5,6],9]\n",
    "#output\n",
    "[1,2,[3,4,5,6,[7,8]],9]\n",
    "\n",
    "l3=[7,8]\n",
    "l2[2].append(l3)#using append to add the sublist\n",
    "l2"
   ]
  }
 ],
 "metadata": {
  "kernelspec": {
   "display_name": "Python 3",
   "language": "python",
   "name": "python3"
  },
  "language_info": {
   "codemirror_mode": {
    "name": "ipython",
    "version": 3
   },
   "file_extension": ".py",
   "mimetype": "text/x-python",
   "name": "python",
   "nbconvert_exporter": "python",
   "pygments_lexer": "ipython3",
   "version": "3.8.3"
  }
 },
 "nbformat": 4,
 "nbformat_minor": 4
}
