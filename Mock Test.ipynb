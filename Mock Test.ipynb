{
 "cells": [
  {
   "cell_type": "code",
   "execution_count": 1,
   "metadata": {},
   "outputs": [
    {
     "name": "stdout",
     "output_type": "stream",
     "text": [
      "Enter number of elements you want in the list : 5\n",
      "Enter element No 1: \n",
      "2\n",
      "Enter element No 2: \n",
      "3\n",
      "Enter element No 3: \n",
      "8\n",
      "Enter element No 4: \n",
      "6\n",
      "Enter element No 5: \n",
      "4\n",
      "The entered list is: \n",
      " [2, 3, 8, 6, 4]\n",
      "The largest number in list is  8\n",
      "End of the program\n"
     ]
    }
   ],
   "source": [
    "#Mock Test-Write a python program to accept user inputs, store it in a list and compute the highest number out of it\n",
    "import sys\n",
    "\n",
    "class find:\n",
    "    def large(ls):\n",
    "        lar=ls[0]\n",
    "        for i in range(len(ls)):\n",
    "            if lar<ls[i]: \n",
    "                lar=ls[i]\n",
    "        return lar\n",
    "\n",
    "    \n",
    "try:\n",
    "    in_list=[]\n",
    "    n = int(input(\"Enter number of elements you want in the list : \"))\n",
    "    if n==0 :\n",
    "        print(\"list cannot be empty\")\n",
    "        sys.exit()\n",
    "     # iterating till the range\n",
    "    for i in range(0, n):\n",
    "        print(\"Enter element No {}: \".format(i+1))\n",
    "        elm = int(input())\n",
    "        in_list.append(elm) # adding the elements to list\n",
    "    print(\"The entered list is: \\n\",in_list)\n",
    "    print(\"The largest number in list is \",find.large(in_list))\n",
    "except:\n",
    "    print(\"Hi, make sure the value you enter is not null  or other than numbers\")\n",
    "finally:\n",
    "    print(\"End of the program\")\n",
    "\n",
    "\n",
    "        \n"
   ]
  },
  {
   "cell_type": "code",
   "execution_count": null,
   "metadata": {},
   "outputs": [],
   "source": []
  }
 ],
 "metadata": {
  "kernelspec": {
   "display_name": "Python 3",
   "language": "python",
   "name": "python3"
  },
  "language_info": {
   "codemirror_mode": {
    "name": "ipython",
    "version": 3
   },
   "file_extension": ".py",
   "mimetype": "text/x-python",
   "name": "python",
   "nbconvert_exporter": "python",
   "pygments_lexer": "ipython3",
   "version": "3.8.3"
  }
 },
 "nbformat": 4,
 "nbformat_minor": 4
}
