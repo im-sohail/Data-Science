{
 "cells": [
  {
   "cell_type": "markdown",
   "metadata": {},
   "source": [
    "\n",
    "ASSIGNMENTS"
   ]
  },
  {
   "cell_type": "code",
   "execution_count": null,
   "metadata": {
    "scrolled": true
   },
   "outputs": [],
   "source": [
    "#Task 1\n",
    "#Different types of inbuilt function in Python\n"
   ]
  },
  {
   "cell_type": "code",
   "execution_count": 1,
   "metadata": {},
   "outputs": [
    {
     "name": "stdout",
     "output_type": "stream",
     "text": [
      "enter your name:sohail\n",
      "hello sohail\n"
     ]
    }
   ],
   "source": [
    "# 1.input()-->Allowing user input\n",
    "a=input(\"enter your name:\")\n",
    "print(\"hello \"+a)"
   ]
  },
  {
   "cell_type": "code",
   "execution_count": 2,
   "metadata": {},
   "outputs": [
    {
     "name": "stdout",
     "output_type": "stream",
     "text": [
      "The car is red and water is blue \n"
     ]
    }
   ],
   "source": [
    "#2.format()-->Formats specified values in a string\n",
    "print(\"The car is {} and water is {} \".format(\"red\",\"blue\"))"
   ]
  },
  {
   "cell_type": "code",
   "execution_count": 3,
   "metadata": {},
   "outputs": [
    {
     "name": "stdout",
     "output_type": "stream",
     "text": [
      "i love coding\n",
      "i love gaming\n"
     ]
    }
   ],
   "source": [
    "#3.replace()-->Returns a string where a specified value is replaced \n",
    "#               with a specified value\n",
    "txt=\"i love coding\"\n",
    "print(txt)\n",
    "i=txt.replace(\"coding\",\"gaming\")\n",
    "print(i)"
   ]
  },
  {
   "cell_type": "code",
   "execution_count": 4,
   "metadata": {},
   "outputs": [
    {
     "name": "stdout",
     "output_type": "stream",
     "text": [
      "HELLO! My Name Is Sohail\n"
     ]
    }
   ],
   "source": [
    "#4.swapcase()--> lower case becomes upper case and vice versa\n",
    "txt = \"hello! mY nAME iS sOHAIL\"\n",
    "x=txt.swapcase()\n",
    "print(x)"
   ]
  },
  {
   "cell_type": "code",
   "execution_count": 5,
   "metadata": {},
   "outputs": [
    {
     "name": "stdout",
     "output_type": "stream",
     "text": [
      "['apple', 'banana', 'cherry', 'orange']\n"
     ]
    }
   ],
   "source": [
    "#5.append()-->Adds an element at the end of the list\n",
    "fruits = [\"apple\", \"banana\", \"cherry\"]\n",
    "fruits.append(\"orange\")\n",
    "print(fruits)"
   ]
  },
  {
   "cell_type": "code",
   "execution_count": 6,
   "metadata": {},
   "outputs": [
    {
     "name": "stdout",
     "output_type": "stream",
     "text": [
      "[]\n"
     ]
    }
   ],
   "source": [
    "#6.clear()-->Removes all the elements from the list\n",
    "fruits = ['apple', 'banana', 'cherry', 'orange']\n",
    "fruits.clear()\n",
    "print(fruits)"
   ]
  },
  {
   "cell_type": "code",
   "execution_count": 7,
   "metadata": {},
   "outputs": [
    {
     "name": "stdout",
     "output_type": "stream",
     "text": [
      "Welcome To My World\n"
     ]
    }
   ],
   "source": [
    "#7.title()-->Converts the first character of each word to upper case\n",
    "t=\"Welcome to my world\"\n",
    "x = t.title()\n",
    "print(x)"
   ]
  },
  {
   "cell_type": "code",
   "execution_count": 8,
   "metadata": {},
   "outputs": [
    {
     "name": "stdout",
     "output_type": "stream",
     "text": [
      "14\n",
      "-1\n"
     ]
    }
   ],
   "source": [
    "#Task 2  check if \"to\" is present\n",
    "txt = \"Hello welcome to my world\"\n",
    "\n",
    "x = txt.find(\"to\")#find()->Searches the string for a specified value \n",
    "                  #and returns the position of where it was found\n",
    "print(x)\n",
    "\n",
    "y=txt.find(\"q\")#If the value is not found, the find() method returns -1\n",
    "\n",
    "print(y)\n"
   ]
  },
  {
   "cell_type": "code",
   "execution_count": null,
   "metadata": {},
   "outputs": [],
   "source": []
  }
 ],
 "metadata": {
  "kernelspec": {
   "display_name": "Python 3",
   "language": "python",
   "name": "python3"
  },
  "language_info": {
   "codemirror_mode": {
    "name": "ipython",
    "version": 3
   },
   "file_extension": ".py",
   "mimetype": "text/x-python",
   "name": "python",
   "nbconvert_exporter": "python",
   "pygments_lexer": "ipython3",
   "version": "3.8.3"
  }
 },
 "nbformat": 4,
 "nbformat_minor": 4
}
