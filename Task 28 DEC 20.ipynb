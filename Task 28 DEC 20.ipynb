{
 "cells": [
  {
   "cell_type": "code",
   "execution_count": 1,
   "metadata": {},
   "outputs": [
    {
     "name": "stdout",
     "output_type": "stream",
     "text": [
      "enter a duplicate character string :hello\n",
      " Here is the output string : helo\n"
     ]
    }
   ],
   "source": [
    "#Write a function to remove duplicate values in a string.\n",
    "def removingMultivalue(string):\n",
    "    s=set()\n",
    "    l=[]\n",
    "    for i in string:\n",
    "        \n",
    "        if i not in s:\n",
    "            s.add(i)\n",
    "            l.append(i)\n",
    "    return ''.join(l) \n",
    "string = input(\"enter a duplicate character string :\")\n",
    "print(\" Here is the output string :\",removingMultivalue(string))\n",
    "\n"
   ]
  },
  {
   "cell_type": "code",
   "execution_count": 2,
   "metadata": {},
   "outputs": [
    {
     "name": "stdout",
     "output_type": "stream",
     "text": [
      "enter the number 8\n",
      "enter the root to be applied for number 3\n",
      "2.0\n"
     ]
    }
   ],
   "source": [
    "#Write a class and method under it to perform squareRoot, cuberoot and Nth root of a number.\n",
    "\n",
    "class nroots:\n",
    "    def roots(x,y):\n",
    "        z=x**(1.0/y)\n",
    "        return z\n",
    "no=int(input(\"enter the number \"))\n",
    "rootno=int(input(\"enter the root to be applied for number \"))\n",
    "ob=nroots.roots(no,rootno)\n",
    "print(ob)\n"
   ]
  },
  {
   "cell_type": "code",
   "execution_count": 3,
   "metadata": {},
   "outputs": [
    {
     "name": "stdout",
     "output_type": "stream",
     "text": [
      "Enter number of elements you want in the list : 4\n",
      "Enter element No 1: \n",
      "5\n",
      "Enter element No 2: \n",
      "7\n",
      "Enter element No 3: \n",
      "8\n",
      "Enter element No 4: \n",
      "2\n",
      "The entered list is: \n",
      " [5, 7, 8, 2]\n",
      "The reversed list is  [2, 8, 7, 5]\n"
     ]
    }
   ],
   "source": [
    "#Write a function which takes a list as input and returns list in a reverse order.\n",
    "\n",
    "def reverselist(input_list):\n",
    "    input_list.reverse()\n",
    "    return input_list\n",
    "in_list=[]\n",
    "n = int(input(\"Enter number of elements you want in the list : \"))\n",
    "# iterating till the range\n",
    "for i in range(0, n):\n",
    "    print(\"Enter element No {}: \".format(i+1))\n",
    "    elm = int(input())\n",
    "    in_list.append(elm) # adding the element\n",
    "print(\"The entered list is: \\n\",in_list)\n",
    "print(\"The reversed list is \",reverselist(in_list))"
   ]
  },
  {
   "cell_type": "code",
   "execution_count": 4,
   "metadata": {},
   "outputs": [
    {
     "name": "stdout",
     "output_type": "stream",
     "text": [
      "Enter number of elements you want in the tuple : 4\n",
      "Enter element No 1: \n",
      "6\n",
      "Enter element No 2: \n",
      "7\n",
      "Enter element No 3: \n",
      "2\n",
      "Enter element No 4: \n",
      "4\n",
      "The entered tuple is: \n",
      " (6, 7, 2, 4)\n",
      "The largest number in tuple is  7\n",
      "The smallest number in the tuple is  2\n"
     ]
    }
   ],
   "source": [
    "#Write a class which takes three inputs and returns the smallest and the largest number.\n",
    "class find:\n",
    "    def large(tup):\n",
    "        lar=tup[0]\n",
    "        for i in range(len(tup)):\n",
    "            if lar<tup[i]: \n",
    "                lar=tup[i]\n",
    "        return lar\n",
    "    def small(tup):\n",
    "        sml=tup[0]\n",
    "        for i in range(len(tup)):\n",
    "            if sml>tup[i]:\n",
    "                sml=tup[i]\n",
    "        return sml\n",
    "    \n",
    "in_list=[]\n",
    "n = int(input(\"Enter number of elements you want in the tuple : \"))\n",
    "# iterating till the range\n",
    "for i in range(0, n):\n",
    "    print(\"Enter element No {}: \".format(i+1))\n",
    "    elm = int(input())\n",
    "    in_list.append(elm) # adding the element\n",
    "tup1=tuple(in_list)#convert list to tuple\n",
    "print(\"The entered tuple is: \\n\",tup1)\n",
    "print(\"The largest number in tuple is \",find.large(tup1))\n",
    "print(\"The smallest number in the tuple is \",find.small(tup1))"
   ]
  }
 ],
 "metadata": {
  "kernelspec": {
   "display_name": "Python 3",
   "language": "python",
   "name": "python3"
  },
  "language_info": {
   "codemirror_mode": {
    "name": "ipython",
    "version": 3
   },
   "file_extension": ".py",
   "mimetype": "text/x-python",
   "name": "python",
   "nbconvert_exporter": "python",
   "pygments_lexer": "ipython3",
   "version": "3.8.3"
  }
 },
 "nbformat": 4,
 "nbformat_minor": 4
}
